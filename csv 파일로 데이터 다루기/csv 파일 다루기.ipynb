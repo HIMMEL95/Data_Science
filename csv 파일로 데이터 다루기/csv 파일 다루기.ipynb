{
 "metadata": {
  "language_info": {
   "codemirror_mode": {
    "name": "ipython",
    "version": 3
   },
   "file_extension": ".py",
   "mimetype": "text/x-python",
   "name": "python",
   "nbconvert_exporter": "python",
   "pygments_lexer": "ipython3",
   "version": "3.6.9-final"
  },
  "orig_nbformat": 2,
  "kernelspec": {
   "name": "python3",
   "display_name": "Python 3",
   "language": "python"
  }
 },
 "nbformat": 4,
 "nbformat_minor": 2,
 "cells": [
  {
   "source": [
    "# CSV 파일 읽기"
   ],
   "cell_type": "markdown",
   "metadata": {}
  },
  {
   "cell_type": "code",
   "execution_count": 1,
   "metadata": {},
   "outputs": [
    {
     "output_type": "stream",
     "name": "stdout",
     "text": [
      "['국어', '영어', '수학']\n['90', '80', '100']\n[['국어', '영어', '수학'], ['90', '80', '100']]\n[['국어', '영어', '수학'], ['90', '80', '100']]\n"
     ]
    }
   ],
   "source": [
    "import csv\n",
    "\n",
    "f = open('a.csv', 'r', encoding='utf-8-sig')\n",
    "new = csv.reader(f)\n",
    "\n",
    "for l in new:\n",
    "    print(l)\n",
    "\n",
    "f.seek(0)\n",
    "\n",
    "a_list = [a for a in new]\n",
    "print(a_list) \n",
    "\n",
    "def opencsv(arg):\n",
    "    f = open(arg, 'r', encoding='utf-8-sig')\n",
    "    file = csv.reader(f)\n",
    "    list_ = [line for line in file]\n",
    "    print(list_)\n",
    "\n",
    "opencsv('a.csv')"
   ]
  },
  {
   "source": [
    "# 외국인 비율 계산 및 출력하기"
   ],
   "cell_type": "markdown",
   "metadata": {}
  },
  {
   "cell_type": "code",
   "execution_count": 2,
   "metadata": {},
   "outputs": [
    {
     "output_type": "stream",
     "name": "stdout",
     "text": [
      "Total 2.8\nJongrogu 6.8\nJongru 7.5\nYongsangu 6.6\nSeongdonggu 2.6\nKwangjingu 4.2\nDongdaemoongu 4.7\nJungranggu 1.2\nSeongbukgu 2.8\nGangbukgu 1.2\nDobonggu 0.7\nNowonggu 0.8\nEunpyonggu 0.9\nSeodaemungu 4.3\nMapogu 3.1\nYangcheongu 0.9\nGangseogu 1.1\nGurogu 7.5\nGuemcheongu 7.7\nYoungdeungpogu 8.5\nDongjakgu 3.1\nKwanakgu 3.4\nSeoucheogu 1.0\nGangnamgu 0.9\nSongpagu 1.0\nGangdonggu 1.0\n"
     ]
    }
   ],
   "source": [
    "import os, re, csv\n",
    "\n",
    "f = open('popSeoul.csv')\n",
    "new = csv.reader(f)\n",
    "\n",
    "newPop = []\n",
    "\n",
    "for i, row in enumerate(new):\n",
    "    if i == 0:\n",
    "        continue\n",
    "    else:\n",
    "        newPop.append((row[0], row[1:]))\n",
    "\n",
    "for x,y in newPop:\n",
    "    for b in range(3):\n",
    "        y[b] = int(y[b].replace(',',''))\n",
    "        \n",
    "i = newPop[0]\n",
    "\n",
    "for l,r in newPop:\n",
    "    rate = r[1] / (r[0]+r[1]) *100\n",
    "    print(l, round(rate,1))"
   ]
  },
  {
   "source": [
    "# 외국인 비율이 3% 초과할 때만 출력해보기"
   ],
   "cell_type": "markdown",
   "metadata": {}
  },
  {
   "cell_type": "code",
   "execution_count": 20,
   "metadata": {},
   "outputs": [
    {
     "output_type": "stream",
     "name": "stdout",
     "text": [
      "Jongrogu 151767 11093 6.8\nJongru 126409 10254 7.5\nYongsangu 228830 16159 6.6\nKwangjingu 352692 15645 4.2\nDongdaemoongu 346551 17228 4.7\nSeodaemungu 310069 14020 4.3\nMapogu 373629 11976 3.1\nGurogu 406748 33102 7.5\nGuemcheongu 233371 19497 7.7\nYoungdeungpogu 368402 34076 8.5\nDongjakgu 397618 12869 3.1\nKwanakgu 502117 17836 3.4\n"
     ]
    }
   ],
   "source": [
    "import os, re, csv\n",
    "\n",
    "f = open('popSeoul.csv')\n",
    "new = csv.reader(f)\n",
    "\n",
    "newPop = []\n",
    "\n",
    "for id, row in enumerate(new):\n",
    "    if id == 0:\n",
    "        continue\n",
    "    else:\n",
    "        newPop.append((row[0], row[1:]))\n",
    "\n",
    "for x,y in newPop:\n",
    "    for b in range(3):\n",
    "        y[b] = int(y[b].replace(',',''))\n",
    "        \n",
    "i = newPop[0]\n",
    "\n",
    "news= [['구', '한국인', '외국인', '외국인 비율(%)']]\n",
    "\n",
    "for l,r in newPop:\n",
    "    rate = round(r[1] / (r[0]+r[1]) *100, 1)\n",
    "    if rate > 3:\n",
    "        print(l, r[0], r[1], rate)\n",
    "\n",
    "f.close()\n",
    "\n",
    "nf = open('newPop.csv', 'w', encoding = 'utf-8')\n",
    "wr = csv.writer(nf)\n",
    "new= ['구', '한국인', '외국인', '외국인 비율(%)']\n",
    "wr.writerow(new)\n",
    "\n",
    "rows = []\n",
    "\n",
    "for l,r in newPop:\n",
    "    rate = round(r[1] / (r[0]+r[1]) *100, 1)\n",
    "    if rate > 3:\n",
    "        rows.append([l, r[0], r[1], rate])\n",
    "\n",
    "for a in rows:\n",
    "    wr.writerow(a)\n",
    "    \n",
    "nf.close()"
   ]
  },
  {
   "source": [
    "# csv형 리스트로 만들고 자료 가공하기"
   ],
   "cell_type": "markdown",
   "metadata": {}
  },
  {
   "cell_type": "code",
   "execution_count": 6,
   "metadata": {},
   "outputs": [
    {
     "output_type": "error",
     "ename": "AttributeError",
     "evalue": "'list' object has no attribute 'replace'",
     "traceback": [
      "\u001b[0;31m---------------------------------------------------------------------------\u001b[0m",
      "\u001b[0;31mAttributeError\u001b[0m                            Traceback (most recent call last)",
      "\u001b[0;32m<ipython-input-6-9d98ff586e59>\u001b[0m in \u001b[0;36m<module>\u001b[0;34m\u001b[0m\n\u001b[1;32m     10\u001b[0m         \u001b[0mrow\u001b[0m\u001b[0;34m[\u001b[0m\u001b[0;36m1\u001b[0m\u001b[0;34m:\u001b[0m\u001b[0;36m4\u001b[0m\u001b[0;34m]\u001b[0m \u001b[0;34m=\u001b[0m \u001b[0mmap\u001b[0m\u001b[0;34m(\u001b[0m\u001b[0mint\u001b[0m\u001b[0;34m,\u001b[0m \u001b[0mrow\u001b[0m\u001b[0;34m[\u001b[0m\u001b[0;36m1\u001b[0m\u001b[0;34m:\u001b[0m\u001b[0;36m4\u001b[0m\u001b[0;34m]\u001b[0m\u001b[0;34m)\u001b[0m\u001b[0;34m\u001b[0m\u001b[0;34m\u001b[0m\u001b[0m\n\u001b[1;32m     11\u001b[0m         \u001b[0mrow\u001b[0m\u001b[0;34m[\u001b[0m\u001b[0;36m5\u001b[0m\u001b[0;34m]\u001b[0m \u001b[0;34m=\u001b[0m \u001b[0mfloat\u001b[0m\u001b[0;34m(\u001b[0m\u001b[0mrow\u001b[0m\u001b[0;34m[\u001b[0m\u001b[0;36m5\u001b[0m\u001b[0;34m]\u001b[0m\u001b[0;34m)\u001b[0m\u001b[0;34m\u001b[0m\u001b[0;34m\u001b[0m\u001b[0m\n\u001b[0;32m---> 12\u001b[0;31m         \u001b[0mrow\u001b[0m\u001b[0;34m[\u001b[0m\u001b[0;36m6\u001b[0m\u001b[0;34m:\u001b[0m\u001b[0;36m11\u001b[0m\u001b[0;34m]\u001b[0m \u001b[0;34m=\u001b[0m \u001b[0mmap\u001b[0m\u001b[0;34m(\u001b[0m\u001b[0mint\u001b[0m\u001b[0;34m,\u001b[0m \u001b[0mrow\u001b[0m\u001b[0;34m[\u001b[0m\u001b[0;36m6\u001b[0m\u001b[0;34m:\u001b[0m\u001b[0;36m11\u001b[0m\u001b[0;34m]\u001b[0m\u001b[0;34m.\u001b[0m\u001b[0mreplace\u001b[0m\u001b[0;34m(\u001b[0m\u001b[0;34m','\u001b[0m\u001b[0;34m,\u001b[0m\u001b[0;34m''\u001b[0m\u001b[0;34m)\u001b[0m\u001b[0;34m)\u001b[0m\u001b[0;34m\u001b[0m\u001b[0;34m\u001b[0m\u001b[0m\n\u001b[0m\u001b[1;32m     13\u001b[0m     \u001b[0mprint\u001b[0m\u001b[0;34m(\u001b[0m\u001b[0mrow\u001b[0m\u001b[0;34m)\u001b[0m\u001b[0;34m\u001b[0m\u001b[0;34m\u001b[0m\u001b[0m\n",
      "\u001b[0;31mAttributeError\u001b[0m: 'list' object has no attribute 'replace'"
     ]
    }
   ],
   "source": [
    "import os, re, csv\n",
    "\n",
    "f = open('apt_201910.csv','r', encoding='utf-8-sig')\n",
    "data = csv.reader(f)\n",
    "\n",
    "for i, row in enumerate(data):\n",
    "    if i == 0:\n",
    "        continue\n",
    "    else:\n",
    "        row[1:4] = map(int, row[1:4])\n",
    "        row[5] = float(row[5])\n",
    "        row[6:11] = map(int, row[6:11])\n",
    "    print(row)"
   ]
  },
  {
   "cell_type": "code",
   "execution_count": null,
   "metadata": {},
   "outputs": [],
   "source": []
  }
 ]
}