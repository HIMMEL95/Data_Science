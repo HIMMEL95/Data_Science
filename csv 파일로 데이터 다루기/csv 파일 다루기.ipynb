{
 "metadata": {
  "language_info": {
   "codemirror_mode": {
    "name": "ipython",
    "version": 3
   },
   "file_extension": ".py",
   "mimetype": "text/x-python",
   "name": "python",
   "nbconvert_exporter": "python",
   "pygments_lexer": "ipython3",
   "version": "3.6.9-final"
  },
  "orig_nbformat": 2,
  "kernelspec": {
   "name": "python3",
   "display_name": "Python 3",
   "language": "python"
  }
 },
 "nbformat": 4,
 "nbformat_minor": 2,
 "cells": [
  {
   "source": [
    "# CSV 파일 읽기"
   ],
   "cell_type": "markdown",
   "metadata": {}
  },
  {
   "cell_type": "code",
   "execution_count": 1,
   "metadata": {},
   "outputs": [
    {
     "output_type": "stream",
     "name": "stdout",
     "text": [
      "['국어', '영어', '수학']\n['90', '80', '100']\n[['국어', '영어', '수학'], ['90', '80', '100']]\n[['국어', '영어', '수학'], ['90', '80', '100']]\n"
     ]
    }
   ],
   "source": [
    "import csv\n",
    "\n",
    "f = open('a.csv', 'r', encoding='utf-8-sig')\n",
    "new = csv.reader(f)\n",
    "\n",
    "for l in new:\n",
    "    print(l)\n",
    "\n",
    "f.seek(0)\n",
    "\n",
    "a_list = [a for a in new]\n",
    "print(a_list) \n",
    "\n",
    "def opencsv(arg):\n",
    "    f = open(arg, 'r', encoding='utf-8-sig')\n",
    "    file = csv.reader(f)\n",
    "    list_ = [line for line in file]\n",
    "    print(list_)\n",
    "\n",
    "opencsv('a.csv')"
   ]
  },
  {
   "source": [
    "# 외국인 비율 계산 및 출력하기"
   ],
   "cell_type": "markdown",
   "metadata": {}
  },
  {
   "cell_type": "code",
   "execution_count": 2,
   "metadata": {},
   "outputs": [
    {
     "output_type": "stream",
     "name": "stdout",
     "text": [
      "Total 2.8\nJongrogu 6.8\nJongru 7.5\nYongsangu 6.6\nSeongdonggu 2.6\nKwangjingu 4.2\nDongdaemoongu 4.7\nJungranggu 1.2\nSeongbukgu 2.8\nGangbukgu 1.2\nDobonggu 0.7\nNowonggu 0.8\nEunpyonggu 0.9\nSeodaemungu 4.3\nMapogu 3.1\nYangcheongu 0.9\nGangseogu 1.1\nGurogu 7.5\nGuemcheongu 7.7\nYoungdeungpogu 8.5\nDongjakgu 3.1\nKwanakgu 3.4\nSeoucheogu 1.0\nGangnamgu 0.9\nSongpagu 1.0\nGangdonggu 1.0\n"
     ]
    }
   ],
   "source": [
    "import os, re, csv\n",
    "\n",
    "f = open('popSeoul.csv')\n",
    "new = csv.reader(f)\n",
    "\n",
    "newPop = []\n",
    "\n",
    "for i, row in enumerate(new):\n",
    "    if i == 0:\n",
    "        continue\n",
    "    else:\n",
    "        newPop.append((row[0], row[1:]))\n",
    "\n",
    "for x,y in newPop:\n",
    "    for b in range(3):\n",
    "        y[b] = int(y[b].replace(',',''))\n",
    "        \n",
    "i = newPop[0]\n",
    "\n",
    "for l,r in newPop:\n",
    "    rate = r[1] / (r[0]+r[1]) *100\n",
    "    print(l, round(rate,1))"
   ]
  },
  {
   "source": [
    "# 외국인 비율이 3% 초과할 때만 출력해보기"
   ],
   "cell_type": "markdown",
   "metadata": {}
  },
  {
   "cell_type": "code",
   "execution_count": 3,
   "metadata": {},
   "outputs": [
    {
     "output_type": "stream",
     "name": "stdout",
     "text": [
      "Jongrogu 151767 11093 6.8\nJongru 126409 10254 7.5\nYongsangu 228830 16159 6.6\nKwangjingu 352692 15645 4.2\nDongdaemoongu 346551 17228 4.7\nSeodaemungu 310069 14020 4.3\nMapogu 373629 11976 3.1\nGurogu 406748 33102 7.5\nGuemcheongu 233371 19497 7.7\nYoungdeungpogu 368402 34076 8.5\nDongjakgu 397618 12869 3.1\nKwanakgu 502117 17836 3.4\n"
     ]
    }
   ],
   "source": [
    "import os, re, csv\n",
    "\n",
    "f = open('popSeoul.csv')\n",
    "new = csv.reader(f)\n",
    "\n",
    "newPop = []\n",
    "\n",
    "for id, row in enumerate(new):\n",
    "    if id == 0:\n",
    "        continue\n",
    "    else:\n",
    "        newPop.append((row[0], row[1:]))\n",
    "\n",
    "for x,y in newPop:\n",
    "    for b in range(3):\n",
    "        y[b] = int(y[b].replace(',',''))\n",
    "        \n",
    "i = newPop[0]\n",
    "\n",
    "news= [['구', '한국인', '외국인', '외국인 비율(%)']]\n",
    "\n",
    "for l,r in newPop:\n",
    "    rate = round(r[1] / (r[0]+r[1]) *100, 1)\n",
    "    if rate > 3:\n",
    "        print(l, r[0], r[1], rate)\n",
    "\n",
    "f.close()\n",
    "\n",
    "nf = open('newPop.csv', 'w', encoding = 'utf-8')\n",
    "wr = csv.writer(nf)\n",
    "new= ['구', '한국인', '외국인', '외국인 비율(%)']\n",
    "wr.writerow(new)\n",
    "\n",
    "rows = []\n",
    "\n",
    "for l,r in newPop:\n",
    "    rate = round(r[1] / (r[0]+r[1]) *100, 1)\n",
    "    if rate > 3:\n",
    "        rows.append([l, r[0], r[1], rate])\n",
    "\n",
    "for a in rows:\n",
    "    wr.writerow(a)\n",
    "    \n",
    "nf.close()"
   ]
  },
  {
   "source": [
    "# csv형 리스트로 만들고 자료 가공하기"
   ],
   "cell_type": "markdown",
   "metadata": {}
  },
  {
   "cell_type": "code",
   "execution_count": 4,
   "metadata": {},
   "outputs": [
    {
     "output_type": "stream",
     "name": "stdout",
     "text": [
      "['시군구', '번지', '본번', '부번', '단지명', '면적', '계약년월', '계약일', '가격', '층', '건축년도', '도로명']\n['강원도 강릉시 견소동', 202, 202, 0, '송정한신', 59.8, 201910, 4, 10900, 5, 1997, '경강로2539번길 8']\n"
     ]
    }
   ],
   "source": [
    "import os, re, csv\n",
    "\n",
    "f = open('apt_201910.csv','r', encoding='utf-8-sig')\n",
    "data = csv.reader(f)\n",
    "\n",
    "label = []\n",
    "\n",
    "value = []\n",
    "\n",
    "for i, row in enumerate(data):\n",
    "    if i == 0:\n",
    "        label = row\n",
    "    elif i ==1:\n",
    "        row[1:4] = map(int, row[1:4])\n",
    "        row[5] = float(row[5])\n",
    "        row[6:8] = map(int, row[6:8])\n",
    "        row[8] = int(row[8].replace(',',''))\n",
    "        row[9:11] = map(int, row[9:11])\n",
    "        value = row\n",
    "\n",
    "print(label)\n",
    "print(value)"
   ]
  },
  {
   "source": [
    "# 슬라이싱으로 원하는 자료 출력하기"
   ],
   "cell_type": "markdown",
   "metadata": {}
  },
  {
   "cell_type": "code",
   "execution_count": 5,
   "metadata": {},
   "outputs": [
    {
     "output_type": "stream",
     "name": "stdout",
     "text": [
      "['시군구', '번지', '본번', '부번', '단지명', '면적', '계약년월', '계약일', '가격', '층', '건축년도', '도로명']\n강원도 강릉시 견소동\n강원도 강릉시 견소동\n강원도 강릉시 견소동\n강원도 강릉시 견소동\n강원도 강릉시 견소동\n강원도 강릉시 견소동 송정한신 10900.0\n강원도 강릉시 견소동 송정한신 18500.0\n강원도 강릉시 견소동 송정해변신도브래뉴아파트 25000.0\n강원도 강릉시 견소동 송정해변신도브래뉴아파트 20600.0\n강원도 강릉시 견소동 송정해변신도브래뉴아파트 20500.0\n"
     ]
    }
   ],
   "source": [
    "import os, re, csv\n",
    "\n",
    "f = open('apt_201910.csv','r', encoding='utf-8-sig')\n",
    "data = csv.reader(f)\n",
    "\n",
    "label = []\n",
    "\n",
    "value = []\n",
    "\n",
    "for i,row in enumerate(data):\n",
    "    if i == 0:\n",
    "        label = row\n",
    "    else:\n",
    "        row[-4] = float(row[-4].replace(',',''))\n",
    "        value.append(row)\n",
    "\n",
    "print(label)\n",
    "\n",
    "for a in range(5):\n",
    "    print(value[a][0])\n",
    "\n",
    "for b in range(5):\n",
    "    print(value[b][0], value[b][4], value[b][-4])"
   ]
  },
  {
   "source": [
    "# 강원도에 120㎡ 이상 3억원 이하 아파트 검색하기 "
   ],
   "cell_type": "markdown",
   "metadata": {}
  },
  {
   "cell_type": "code",
   "execution_count": 6,
   "metadata": {},
   "outputs": [
    {
     "output_type": "stream",
     "name": "stdout",
     "text": [
      "['시군구', '번지', '본번', '부번', '단지명', '면적', '계약년월', '계약일', '가격', '층', '건축년도', '도로명']\n강원도 강릉시 교동 현대하이빌 28500.0\n강원도 강릉시 남문동 삼익그린맨션 21000.0\n강원도 강릉시 입암동 강릉입암동금호어울림 27900.0\n강원도 강릉시 입암동 이안강릉타운 25000.0\n강원도 강릉시 홍제동 강릉홍제힐스테이트 27200.0\n강원도 강릉시 홍제동 강릉홍제힐스테이트 29900.0\n강원도 속초시 교동 현대1 16000.0\n강원도 속초시 교동 현대2 20500.0\n강원도 속초시 금호동 보람레이크더하임 29500.0\n강원도 영월군 영월읍 하송리 드림채 25500.0\n강원도 원주시 개운동 원주힐스테이트 26000.0\n강원도 원주시 개운동 원주힐스테이트 24000.0\n강원도 원주시 단구동 두산 19000.0\n강원도 원주시 단구동 두산 17500.0\n강원도 원주시 단구동 중앙하이츠아파트 22500.0\n강원도 원주시 반곡동 반곡벽산블루밍1차 24000.0\n강원도 원주시 판부면 서곡리 원주더샾아파트 25700.0\n강원도 원주시 행구동 건영 15000.0\n강원도 춘천시 동면 만천리 춘천KCC스위첸 24200.0\n강원도 춘천시 동면 만천리 한일유앤아이 28000.0\n강원도 춘천시 석사동 현대 23500.0\n강원도 춘천시 석사동 현진에버빌2차 29500.0\n강원도 춘천시 온의동 보배 15000.0\n강원도 춘천시 우두동 롯데인벤스 20500.0\n강원도 춘천시 우두동 롯데인벤스 25000.0\n강원도 춘천시 퇴계동 금호2차 15900.0\n강원도 춘천시 퇴계동 금호2차 14900.0\n강원도 춘천시 퇴계동 쌍용스윗닷홈 27000.0\n강원도 춘천시 퇴계동 쌍용스윗닷홈 28000.0\n강원도 춘천시 퇴계동 쌍용스윗닷홈 27900.0\n강원도 춘천시 퇴계동 중앙하이츠빌1단지 25800.0\n강원도 춘천시 후평동 동아 13800.0\n강원도 춘천시 후평동 춘천더샵 28500.0\n강원도 춘천시 후평동 한신 16500.0\n강원도 춘천시 후평동 한신 15500.0\n"
     ]
    }
   ],
   "source": [
    "import os, re, csv\n",
    "\n",
    "f = open('apt_201910.csv','r', encoding='utf-8-sig')\n",
    "data = csv.reader(f)\n",
    "\n",
    "label = []\n",
    "\n",
    "\n",
    "value = []\n",
    "\n",
    "for i, row in enumerate(data):\n",
    "    if i == 0:\n",
    "        label = row\n",
    "        print(label)\n",
    "    else:\n",
    "        row[5] = float(row[5])\n",
    "        row[-4] = int(row[-4].replace(',',''))\n",
    "        if '강원' in row[0] and row[5] >= 120 and row[-4] <= 30000:\n",
    "            print(row[0], row[4], float(row[-4]))\n"
   ]
  },
  {
   "source": [
    "# 번역한 예문을 표로 저장하기"
   ],
   "cell_type": "markdown",
   "metadata": {}
  },
  {
   "cell_type": "code",
   "execution_count": 7,
   "metadata": {},
   "outputs": [],
   "source": [
    "import re, csv, os\n",
    "\n",
    "Korean_list = []\n",
    "English_list = []\n",
    "\n",
    "English = 'She is a vegetarian. She does not eat meat. She thinks that animals should not be killed. It is hard for her to hang out with people. Many people like to eat meat. She told his parents not to have meat. They laughed at her. She realized they couldn\\'t give up meat.'\n",
    "Korean = '그녀는 채식주의자입니다. 그녀는 고기를 먹지 않습니다. 그녀는 동물을 죽이지 말아야 한다고 생각합니다. 그녀가 사람들과 어울리는 것은 어렵습니다. 많은 사람들이 고기를 좋아합니다. 그녀는 부모에게 고기를 먹지 말라고 말했습니다. 그들은 그녀를 비웃었다. 그녀는 그들이 고기를 포기할 수 없다는 것을 깨달았습니다.'\n",
    "\n",
    "Korean_list = re.split(r'\\.', Korean)\n",
    "English_list = re.split(r'\\.', English)\n",
    "\n",
    "total = []\n",
    "\n",
    "for i in range(len(English_list)):\n",
    "    total.append((Korean_list[i], English_list[i]))\n",
    "\n",
    "'''with open('Korean_English.csv','w', newline='') as f:\n",
    "    lang = csv.writer(f)\n",
    "    for i in range(len(total)):\n",
    "        lang.writerow(total[i])'''\n",
    "        \n",
    "f = open('Korean_English.csv','w',newline='')\n",
    "lang = csv.writer(f)\n",
    "for t in total:\n",
    "    lang.writerow(t)\n",
    "\n",
    "f.close()"
   ]
  }
 ]
}