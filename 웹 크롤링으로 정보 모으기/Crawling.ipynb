{
 "metadata": {
  "language_info": {
   "codemirror_mode": {
    "name": "ipython",
    "version": 3
   },
   "file_extension": ".py",
   "mimetype": "text/x-python",
   "name": "python",
   "nbconvert_exporter": "python",
   "pygments_lexer": "ipython3",
   "version": "3.6.9-final"
  },
  "orig_nbformat": 2,
  "kernelspec": {
   "name": "python3",
   "display_name": "Python 3",
   "language": "python"
  }
 },
 "nbformat": 4,
 "nbformat_minor": 2,
 "cells": [
  {
   "source": [
    "# 웹 브라우저에서 특정 태그 찾아 명언 출력하기"
   ],
   "cell_type": "markdown",
   "metadata": {}
  },
  {
   "cell_type": "code",
   "execution_count": 1,
   "metadata": {},
   "outputs": [
    {
     "output_type": "stream",
     "name": "stdout",
     "text": [
      "<http.client.HTTPResponse object at 0x7f1e606ea0b8>\nb'<!DOCTYPE html>\\n<html lang=\"en\">\\n<head>\\n\\t<meta charset=\"UTF-8\">\\n\\t<title>Quotes to Scrape</title>\\n   '\n"
     ]
    }
   ],
   "source": [
    "import urllib.request as ur\n",
    "\n",
    "html = ur.urlopen('http://quotes.toscrape.com/')\n",
    "print(html)\n",
    "print(html.read(100))"
   ]
  },
  {
   "source": [
    "# 뷰티풀수프로 자료형 변환하기 "
   ],
   "cell_type": "markdown",
   "metadata": {}
  },
  {
   "cell_type": "code",
   "execution_count": 2,
   "metadata": {},
   "outputs": [
    {
     "output_type": "stream",
     "name": "stdout",
     "text": [
      "<!DOCTYPE html>\n\n<html lang=\"en\">\n<head>\n<meta charset=\"utf-8\"/>\n<title>Quotes to Scrape</title>\n<link href=\"/static/bootstrap.min.css\" rel=\"stylesheet\"/>\n<link href=\"/static/main.css\" rel=\"stylesheet\"/>\n</head>\n<body>\n<div class=\"container\">\n<div class=\"row header-box\">\n<div class=\"col-md-8\">\n<h1>\n<a href=\"/\" style=\"text-decoration: none\">Quotes to Scrape</a>\n</h1>\n</div>\n<div class=\"col-md-4\">\n<p>\n<a href=\"/login\">Login</a>\n</p>\n</div>\n</div>\n<div class=\"row\">\n<div class=\"col-md-8\">\n<div class=\"quote\" itemscope=\"\" itemtype=\"http://schema.org/CreativeWork\">\n<span class=\"text\" itemprop=\"text\">“The world as we have created it is a process of our thinking. It cannot be changed without changing our thinking.”</span>\n<span>by <small class=\"author\" itemprop=\"author\">Albert Einstein</small>\n<a href=\"/author/Albert-Einstein\">(about)</a>\n</span>\n<div class=\"tags\">\n            Tags:\n            <meta class=\"keywords\" content=\"change,deep-thoughts,thinking,world\" itemprop=\"keywords\"/>\n<a class=\"tag\" href=\"/tag/change/page/1/\">change</a>\n<a class=\"tag\" href=\"/tag/deep-thoughts/page/1/\">deep-thoughts</a>\n<a class=\"tag\" href=\"/tag/thinking/page/1/\">thinking</a>\n<a class=\"tag\" href=\"/tag/world/page/1/\">world</a>\n</div>\n</div>\n<div class=\"quote\" itemscope=\"\" itemtype=\"http://schema.org/CreativeWork\">\n<span class=\"text\" itemprop=\"text\">“It is our choices, Harry, that show what we truly are, far more than our abilities.”</span>\n<span>by <small class=\"author\" itemprop=\"author\">J.K. Rowling</small>\n<a href=\"/author/J-K-Rowling\">(about)</a>\n</span>\n<div class=\"tags\">\n            Tags:\n            <meta class=\"keywords\" content=\"abilities,choices\" itemprop=\"keywords\"/>\n<a class=\"tag\" href=\"/tag/abilities/page/1/\">abilities</a>\n<a class=\"tag\" href=\"/tag/choices/page/1/\">choices</a>\n</div>\n</div>\n<div class=\"quote\" itemscope=\"\" itemtype=\"http://schema.org/CreativeWork\">\n<span class=\"text\" itemprop=\"text\">“There are only two ways to live your life. One is as though nothing is a miracle. The other is as though everything is a miracle.”</span>\n<span>by <small class=\"author\" itemprop=\"author\">Albert Einstein</small>\n<a href=\"/author/Albert-Einstein\">(about)</a>\n</span>\n<div class=\"tags\">\n            Tags:\n            <meta class=\"keywords\" content=\"inspirational,life,live,miracle,miracles\" itemprop=\"keywords\"/>\n<a class=\"tag\" href=\"/tag/inspirational/page/1/\">inspirational</a>\n<a class=\"tag\" href=\"/tag/life/page/1/\">life</a>\n<a class=\"tag\" href=\"/tag/live/page/1/\">live</a>\n<a class=\"tag\" href=\"/tag/miracle/page/1/\">miracle</a>\n<a class=\"tag\" href=\"/tag/miracles/page/1/\">miracles</a>\n</div>\n</div>\n<div class=\"quote\" itemscope=\"\" itemtype=\"http://schema.org/CreativeWork\">\n<span class=\"text\" itemprop=\"text\">“The person, be it gentleman or lady, who has not pleasure in a good novel, must be intolerably stupid.”</span>\n<span>by <small class=\"author\" itemprop=\"author\">Jane Austen</small>\n<a href=\"/author/Jane-Austen\">(about)</a>\n</span>\n<div class=\"tags\">\n            Tags:\n            <meta class=\"keywords\" content=\"aliteracy,books,classic,humor\" itemprop=\"keywords\"/>\n<a class=\"tag\" href=\"/tag/aliteracy/page/1/\">aliteracy</a>\n<a class=\"tag\" href=\"/tag/books/page/1/\">books</a>\n<a class=\"tag\" href=\"/tag/classic/page/1/\">classic</a>\n<a class=\"tag\" href=\"/tag/humor/page/1/\">humor</a>\n</div>\n</div>\n<div class=\"quote\" itemscope=\"\" itemtype=\"http://schema.org/CreativeWork\">\n<span class=\"text\" itemprop=\"text\">“Imperfection is beauty, madness is genius and it's better to be absolutely ridiculous than absolutely boring.”</span>\n<span>by <small class=\"author\" itemprop=\"author\">Marilyn Monroe</small>\n<a href=\"/author/Marilyn-Monroe\">(about)</a>\n</span>\n<div class=\"tags\">\n            Tags:\n            <meta class=\"keywords\" content=\"be-yourself,inspirational\" itemprop=\"keywords\"/>\n<a class=\"tag\" href=\"/tag/be-yourself/page/1/\">be-yourself</a>\n<a class=\"tag\" href=\"/tag/inspirational/page/1/\">inspirational</a>\n</div>\n</div>\n<div class=\"quote\" itemscope=\"\" itemtype=\"http://schema.org/CreativeWork\">\n<span class=\"text\" itemprop=\"text\">“Try not to become a man of success. Rather become a man of value.”</span>\n<span>by <small class=\"author\" itemprop=\"author\">Albert Einstein</small>\n<a href=\"/author/Albert-Einstein\">(about)</a>\n</span>\n<div class=\"tags\">\n            Tags:\n            <meta class=\"keywords\" content=\"adulthood,success,value\" itemprop=\"keywords\"/>\n<a class=\"tag\" href=\"/tag/adulthood/page/1/\">adulthood</a>\n<a class=\"tag\" href=\"/tag/success/page/1/\">success</a>\n<a class=\"tag\" href=\"/tag/value/page/1/\">value</a>\n</div>\n</div>\n<div class=\"quote\" itemscope=\"\" itemtype=\"http://schema.org/CreativeWork\">\n<span class=\"text\" itemprop=\"text\">“It is better to be hated for what you are than to be loved for what you are not.”</span>\n<span>by <small class=\"author\" itemprop=\"author\">André Gide</small>\n<a href=\"/author/Andre-Gide\">(about)</a>\n</span>\n<div class=\"tags\">\n            Tags:\n            <meta class=\"keywords\" content=\"life,love\" itemprop=\"keywords\"/>\n<a class=\"tag\" href=\"/tag/life/page/1/\">life</a>\n<a class=\"tag\" href=\"/tag/love/page/1/\">love</a>\n</div>\n</div>\n<div class=\"quote\" itemscope=\"\" itemtype=\"http://schema.org/CreativeWork\">\n<span class=\"text\" itemprop=\"text\">“I have not failed. I've just found 10,000 ways that won't work.”</span>\n<span>by <small class=\"author\" itemprop=\"author\">Thomas A. Edison</small>\n<a href=\"/author/Thomas-A-Edison\">(about)</a>\n</span>\n<div class=\"tags\">\n            Tags:\n            <meta class=\"keywords\" content=\"edison,failure,inspirational,paraphrased\" itemprop=\"keywords\"/>\n<a class=\"tag\" href=\"/tag/edison/page/1/\">edison</a>\n<a class=\"tag\" href=\"/tag/failure/page/1/\">failure</a>\n<a class=\"tag\" href=\"/tag/inspirational/page/1/\">inspirational</a>\n<a class=\"tag\" href=\"/tag/paraphrased/page/1/\">paraphrased</a>\n</div>\n</div>\n<div class=\"quote\" itemscope=\"\" itemtype=\"http://schema.org/CreativeWork\">\n<span class=\"text\" itemprop=\"text\">“A woman is like a tea bag; you never know how strong it is until it's in hot water.”</span>\n<span>by <small class=\"author\" itemprop=\"author\">Eleanor Roosevelt</small>\n<a href=\"/author/Eleanor-Roosevelt\">(about)</a>\n</span>\n<div class=\"tags\">\n            Tags:\n            <meta class=\"keywords\" content=\"misattributed-eleanor-roosevelt\" itemprop=\"keywords\"/>\n<a class=\"tag\" href=\"/tag/misattributed-eleanor-roosevelt/page/1/\">misattributed-eleanor-roosevelt</a>\n</div>\n</div>\n<div class=\"quote\" itemscope=\"\" itemtype=\"http://schema.org/CreativeWork\">\n<span class=\"text\" itemprop=\"text\">“A day without sunshine is like, you know, night.”</span>\n<span>by <small class=\"author\" itemprop=\"author\">Steve Martin</small>\n<a href=\"/author/Steve-Martin\">(about)</a>\n</span>\n<div class=\"tags\">\n            Tags:\n            <meta class=\"keywords\" content=\"humor,obvious,simile\" itemprop=\"keywords\"/>\n<a class=\"tag\" href=\"/tag/humor/page/1/\">humor</a>\n<a class=\"tag\" href=\"/tag/obvious/page/1/\">obvious</a>\n<a class=\"tag\" href=\"/tag/simile/page/1/\">simile</a>\n</div>\n</div>\n<nav>\n<ul class=\"pager\">\n<li class=\"next\">\n<a href=\"/page/2/\">Next <span aria-hidden=\"true\">→</span></a>\n</li>\n</ul>\n</nav>\n</div>\n<div class=\"col-md-4 tags-box\">\n<h2>Top Ten tags</h2>\n<span class=\"tag-item\">\n<a class=\"tag\" href=\"/tag/love/\" style=\"font-size: 28px\">love</a>\n</span>\n<span class=\"tag-item\">\n<a class=\"tag\" href=\"/tag/inspirational/\" style=\"font-size: 26px\">inspirational</a>\n</span>\n<span class=\"tag-item\">\n<a class=\"tag\" href=\"/tag/life/\" style=\"font-size: 26px\">life</a>\n</span>\n<span class=\"tag-item\">\n<a class=\"tag\" href=\"/tag/humor/\" style=\"font-size: 24px\">humor</a>\n</span>\n<span class=\"tag-item\">\n<a class=\"tag\" href=\"/tag/books/\" style=\"font-size: 22px\">books</a>\n</span>\n<span class=\"tag-item\">\n<a class=\"tag\" href=\"/tag/reading/\" style=\"font-size: 14px\">reading</a>\n</span>\n<span class=\"tag-item\">\n<a class=\"tag\" href=\"/tag/friendship/\" style=\"font-size: 10px\">friendship</a>\n</span>\n<span class=\"tag-item\">\n<a class=\"tag\" href=\"/tag/friends/\" style=\"font-size: 8px\">friends</a>\n</span>\n<span class=\"tag-item\">\n<a class=\"tag\" href=\"/tag/truth/\" style=\"font-size: 8px\">truth</a>\n</span>\n<span class=\"tag-item\">\n<a class=\"tag\" href=\"/tag/simile/\" style=\"font-size: 6px\">simile</a>\n</span>\n</div>\n</div>\n</div>\n<footer class=\"footer\">\n<div class=\"container\">\n<p class=\"text-muted\">\n                Quotes by: <a href=\"https://www.goodreads.com/quotes\">GoodReads.com</a>\n</p>\n<p class=\"copyright\">\n                Made with <span class=\"sh-red\">❤</span> by <a href=\"https://scrapinghub.com\">Scrapinghub</a>\n</p>\n</div>\n</footer>\n</body>\n</html>\n<class 'http.client.HTTPResponse'>\n<class 'bs4.BeautifulSoup'>\n"
     ]
    }
   ],
   "source": [
    "from bs4 import BeautifulSoup as bs\n",
    "import urllib.request as ur\n",
    "\n",
    "url = 'http://quotes.toscrape.com/'\n",
    "html = ur.urlopen(url)\n",
    "\n",
    "soup = bs(ur.urlopen(url).read(), 'html.parser') # html 객체에 저장한 자료 정보를 쉽게 추출할 수 있는 형태  \n",
    "\n",
    "print(soup)\n",
    "print(type(html))\n",
    "print(type(soup))"
   ]
  },
  {
   "source": [
    "# 특정 태그에서 텍스트만 추출하기 "
   ],
   "cell_type": "markdown",
   "metadata": {}
  },
  {
   "source": [
    "import urllib.request as ur\n",
    "from bs4 import BeautifulSoup as bs\n",
    "url = 'http://quotes.toscrape.com/'\n",
    "html = ur.urlopen(url)\n",
    "soup = bs(html.read(), 'html.parser')\n",
    "\n",
    "quote = soup.find_all('span')\n",
    "\n",
    "print(soup.find_all('span'))\n",
    "print('-'*70)\n",
    "print(quote[0])\n",
    "print('-'*70)\n",
    "print(quote[0].text)\n",
    "print('-'*70)\n",
    "for t in quote:\n",
    "    print(t.text)\n"
   ],
   "cell_type": "code",
   "metadata": {},
   "execution_count": 3,
   "outputs": [
    {
     "output_type": "stream",
     "name": "stdout",
     "text": [
      "[<span class=\"text\" itemprop=\"text\">“The world as we have created it is a process of our thinking. It cannot be changed without changing our thinking.”</span>, <span>by <small class=\"author\" itemprop=\"author\">Albert Einstein</small>\n<a href=\"/author/Albert-Einstein\">(about)</a>\n</span>, <span class=\"text\" itemprop=\"text\">“It is our choices, Harry, that show what we truly are, far more than our abilities.”</span>, <span>by <small class=\"author\" itemprop=\"author\">J.K. Rowling</small>\n<a href=\"/author/J-K-Rowling\">(about)</a>\n</span>, <span class=\"text\" itemprop=\"text\">“There are only two ways to live your life. One is as though nothing is a miracle. The other is as though everything is a miracle.”</span>, <span>by <small class=\"author\" itemprop=\"author\">Albert Einstein</small>\n<a href=\"/author/Albert-Einstein\">(about)</a>\n</span>, <span class=\"text\" itemprop=\"text\">“The person, be it gentleman or lady, who has not pleasure in a good novel, must be intolerably stupid.”</span>, <span>by <small class=\"author\" itemprop=\"author\">Jane Austen</small>\n<a href=\"/author/Jane-Austen\">(about)</a>\n</span>, <span class=\"text\" itemprop=\"text\">“Imperfection is beauty, madness is genius and it's better to be absolutely ridiculous than absolutely boring.”</span>, <span>by <small class=\"author\" itemprop=\"author\">Marilyn Monroe</small>\n<a href=\"/author/Marilyn-Monroe\">(about)</a>\n</span>, <span class=\"text\" itemprop=\"text\">“Try not to become a man of success. Rather become a man of value.”</span>, <span>by <small class=\"author\" itemprop=\"author\">Albert Einstein</small>\n<a href=\"/author/Albert-Einstein\">(about)</a>\n</span>, <span class=\"text\" itemprop=\"text\">“It is better to be hated for what you are than to be loved for what you are not.”</span>, <span>by <small class=\"author\" itemprop=\"author\">André Gide</small>\n<a href=\"/author/Andre-Gide\">(about)</a>\n</span>, <span class=\"text\" itemprop=\"text\">“I have not failed. I've just found 10,000 ways that won't work.”</span>, <span>by <small class=\"author\" itemprop=\"author\">Thomas A. Edison</small>\n<a href=\"/author/Thomas-A-Edison\">(about)</a>\n</span>, <span class=\"text\" itemprop=\"text\">“A woman is like a tea bag; you never know how strong it is until it's in hot water.”</span>, <span>by <small class=\"author\" itemprop=\"author\">Eleanor Roosevelt</small>\n<a href=\"/author/Eleanor-Roosevelt\">(about)</a>\n</span>, <span class=\"text\" itemprop=\"text\">“A day without sunshine is like, you know, night.”</span>, <span>by <small class=\"author\" itemprop=\"author\">Steve Martin</small>\n<a href=\"/author/Steve-Martin\">(about)</a>\n</span>, <span aria-hidden=\"true\">→</span>, <span class=\"tag-item\">\n<a class=\"tag\" href=\"/tag/love/\" style=\"font-size: 28px\">love</a>\n</span>, <span class=\"tag-item\">\n<a class=\"tag\" href=\"/tag/inspirational/\" style=\"font-size: 26px\">inspirational</a>\n</span>, <span class=\"tag-item\">\n<a class=\"tag\" href=\"/tag/life/\" style=\"font-size: 26px\">life</a>\n</span>, <span class=\"tag-item\">\n<a class=\"tag\" href=\"/tag/humor/\" style=\"font-size: 24px\">humor</a>\n</span>, <span class=\"tag-item\">\n<a class=\"tag\" href=\"/tag/books/\" style=\"font-size: 22px\">books</a>\n</span>, <span class=\"tag-item\">\n<a class=\"tag\" href=\"/tag/reading/\" style=\"font-size: 14px\">reading</a>\n</span>, <span class=\"tag-item\">\n<a class=\"tag\" href=\"/tag/friendship/\" style=\"font-size: 10px\">friendship</a>\n</span>, <span class=\"tag-item\">\n<a class=\"tag\" href=\"/tag/friends/\" style=\"font-size: 8px\">friends</a>\n</span>, <span class=\"tag-item\">\n<a class=\"tag\" href=\"/tag/truth/\" style=\"font-size: 8px\">truth</a>\n</span>, <span class=\"tag-item\">\n<a class=\"tag\" href=\"/tag/simile/\" style=\"font-size: 6px\">simile</a>\n</span>, <span class=\"sh-red\">❤</span>]\n----------------------------------------------------------------------\n<span class=\"text\" itemprop=\"text\">“The world as we have created it is a process of our thinking. It cannot be changed without changing our thinking.”</span>\n----------------------------------------------------------------------\n“The world as we have created it is a process of our thinking. It cannot be changed without changing our thinking.”\n----------------------------------------------------------------------\n“The world as we have created it is a process of our thinking. It cannot be changed without changing our thinking.”\nby Albert Einstein\n(about)\n\n“It is our choices, Harry, that show what we truly are, far more than our abilities.”\nby J.K. Rowling\n(about)\n\n“There are only two ways to live your life. One is as though nothing is a miracle. The other is as though everything is a miracle.”\nby Albert Einstein\n(about)\n\n“The person, be it gentleman or lady, who has not pleasure in a good novel, must be intolerably stupid.”\nby Jane Austen\n(about)\n\n“Imperfection is beauty, madness is genius and it's better to be absolutely ridiculous than absolutely boring.”\nby Marilyn Monroe\n(about)\n\n“Try not to become a man of success. Rather become a man of value.”\nby Albert Einstein\n(about)\n\n“It is better to be hated for what you are than to be loved for what you are not.”\nby André Gide\n(about)\n\n“I have not failed. I've just found 10,000 ways that won't work.”\nby Thomas A. Edison\n(about)\n\n“A woman is like a tea bag; you never know how strong it is until it's in hot water.”\nby Eleanor Roosevelt\n(about)\n\n“A day without sunshine is like, you know, night.”\nby Steve Martin\n(about)\n\n→\n\nlove\n\n\ninspirational\n\n\nlife\n\n\nhumor\n\n\nbooks\n\n\nreading\n\n\nfriendship\n\n\nfriends\n\n\ntruth\n\n\nsimile\n\n❤\n"
     ]
    }
   ]
  },
  {
   "source": [
    "# 웹 브라우저에서 특정 태그 찾아 명언 출력하기"
   ],
   "cell_type": "markdown",
   "metadata": {}
  },
  {
   "cell_type": "code",
   "execution_count": 4,
   "metadata": {},
   "outputs": [
    {
     "output_type": "stream",
     "name": "stdout",
     "text": [
      "[<div class=\"quote\" itemscope=\"\" itemtype=\"http://schema.org/CreativeWork\">\n<span class=\"text\" itemprop=\"text\">“The world as we have created it is a process of our thinking. It cannot be changed without changing our thinking.”</span>\n<span>by <small class=\"author\" itemprop=\"author\">Albert Einstein</small>\n<a href=\"/author/Albert-Einstein\">(about)</a>\n</span>\n<div class=\"tags\">\n            Tags:\n            <meta class=\"keywords\" content=\"change,deep-thoughts,thinking,world\" itemprop=\"keywords\"/>\n<a class=\"tag\" href=\"/tag/change/page/1/\">change</a>\n<a class=\"tag\" href=\"/tag/deep-thoughts/page/1/\">deep-thoughts</a>\n<a class=\"tag\" href=\"/tag/thinking/page/1/\">thinking</a>\n<a class=\"tag\" href=\"/tag/world/page/1/\">world</a>\n</div>\n</div>, <div class=\"quote\" itemscope=\"\" itemtype=\"http://schema.org/CreativeWork\">\n<span class=\"text\" itemprop=\"text\">“It is our choices, Harry, that show what we truly are, far more than our abilities.”</span>\n<span>by <small class=\"author\" itemprop=\"author\">J.K. Rowling</small>\n<a href=\"/author/J-K-Rowling\">(about)</a>\n</span>\n<div class=\"tags\">\n            Tags:\n            <meta class=\"keywords\" content=\"abilities,choices\" itemprop=\"keywords\"/>\n<a class=\"tag\" href=\"/tag/abilities/page/1/\">abilities</a>\n<a class=\"tag\" href=\"/tag/choices/page/1/\">choices</a>\n</div>\n</div>, <div class=\"quote\" itemscope=\"\" itemtype=\"http://schema.org/CreativeWork\">\n<span class=\"text\" itemprop=\"text\">“There are only two ways to live your life. One is as though nothing is a miracle. The other is as though everything is a miracle.”</span>\n<span>by <small class=\"author\" itemprop=\"author\">Albert Einstein</small>\n<a href=\"/author/Albert-Einstein\">(about)</a>\n</span>\n<div class=\"tags\">\n            Tags:\n            <meta class=\"keywords\" content=\"inspirational,life,live,miracle,miracles\" itemprop=\"keywords\"/>\n<a class=\"tag\" href=\"/tag/inspirational/page/1/\">inspirational</a>\n<a class=\"tag\" href=\"/tag/life/page/1/\">life</a>\n<a class=\"tag\" href=\"/tag/live/page/1/\">live</a>\n<a class=\"tag\" href=\"/tag/miracle/page/1/\">miracle</a>\n<a class=\"tag\" href=\"/tag/miracles/page/1/\">miracles</a>\n</div>\n</div>, <div class=\"quote\" itemscope=\"\" itemtype=\"http://schema.org/CreativeWork\">\n<span class=\"text\" itemprop=\"text\">“The person, be it gentleman or lady, who has not pleasure in a good novel, must be intolerably stupid.”</span>\n<span>by <small class=\"author\" itemprop=\"author\">Jane Austen</small>\n<a href=\"/author/Jane-Austen\">(about)</a>\n</span>\n<div class=\"tags\">\n            Tags:\n            <meta class=\"keywords\" content=\"aliteracy,books,classic,humor\" itemprop=\"keywords\"/>\n<a class=\"tag\" href=\"/tag/aliteracy/page/1/\">aliteracy</a>\n<a class=\"tag\" href=\"/tag/books/page/1/\">books</a>\n<a class=\"tag\" href=\"/tag/classic/page/1/\">classic</a>\n<a class=\"tag\" href=\"/tag/humor/page/1/\">humor</a>\n</div>\n</div>, <div class=\"quote\" itemscope=\"\" itemtype=\"http://schema.org/CreativeWork\">\n<span class=\"text\" itemprop=\"text\">“Imperfection is beauty, madness is genius and it's better to be absolutely ridiculous than absolutely boring.”</span>\n<span>by <small class=\"author\" itemprop=\"author\">Marilyn Monroe</small>\n<a href=\"/author/Marilyn-Monroe\">(about)</a>\n</span>\n<div class=\"tags\">\n            Tags:\n            <meta class=\"keywords\" content=\"be-yourself,inspirational\" itemprop=\"keywords\"/>\n<a class=\"tag\" href=\"/tag/be-yourself/page/1/\">be-yourself</a>\n<a class=\"tag\" href=\"/tag/inspirational/page/1/\">inspirational</a>\n</div>\n</div>, <div class=\"quote\" itemscope=\"\" itemtype=\"http://schema.org/CreativeWork\">\n<span class=\"text\" itemprop=\"text\">“Try not to become a man of success. Rather become a man of value.”</span>\n<span>by <small class=\"author\" itemprop=\"author\">Albert Einstein</small>\n<a href=\"/author/Albert-Einstein\">(about)</a>\n</span>\n<div class=\"tags\">\n            Tags:\n            <meta class=\"keywords\" content=\"adulthood,success,value\" itemprop=\"keywords\"/>\n<a class=\"tag\" href=\"/tag/adulthood/page/1/\">adulthood</a>\n<a class=\"tag\" href=\"/tag/success/page/1/\">success</a>\n<a class=\"tag\" href=\"/tag/value/page/1/\">value</a>\n</div>\n</div>, <div class=\"quote\" itemscope=\"\" itemtype=\"http://schema.org/CreativeWork\">\n<span class=\"text\" itemprop=\"text\">“It is better to be hated for what you are than to be loved for what you are not.”</span>\n<span>by <small class=\"author\" itemprop=\"author\">André Gide</small>\n<a href=\"/author/Andre-Gide\">(about)</a>\n</span>\n<div class=\"tags\">\n            Tags:\n            <meta class=\"keywords\" content=\"life,love\" itemprop=\"keywords\"/>\n<a class=\"tag\" href=\"/tag/life/page/1/\">life</a>\n<a class=\"tag\" href=\"/tag/love/page/1/\">love</a>\n</div>\n</div>, <div class=\"quote\" itemscope=\"\" itemtype=\"http://schema.org/CreativeWork\">\n<span class=\"text\" itemprop=\"text\">“I have not failed. I've just found 10,000 ways that won't work.”</span>\n<span>by <small class=\"author\" itemprop=\"author\">Thomas A. Edison</small>\n<a href=\"/author/Thomas-A-Edison\">(about)</a>\n</span>\n<div class=\"tags\">\n            Tags:\n            <meta class=\"keywords\" content=\"edison,failure,inspirational,paraphrased\" itemprop=\"keywords\"/>\n<a class=\"tag\" href=\"/tag/edison/page/1/\">edison</a>\n<a class=\"tag\" href=\"/tag/failure/page/1/\">failure</a>\n<a class=\"tag\" href=\"/tag/inspirational/page/1/\">inspirational</a>\n<a class=\"tag\" href=\"/tag/paraphrased/page/1/\">paraphrased</a>\n</div>\n</div>, <div class=\"quote\" itemscope=\"\" itemtype=\"http://schema.org/CreativeWork\">\n<span class=\"text\" itemprop=\"text\">“A woman is like a tea bag; you never know how strong it is until it's in hot water.”</span>\n<span>by <small class=\"author\" itemprop=\"author\">Eleanor Roosevelt</small>\n<a href=\"/author/Eleanor-Roosevelt\">(about)</a>\n</span>\n<div class=\"tags\">\n            Tags:\n            <meta class=\"keywords\" content=\"misattributed-eleanor-roosevelt\" itemprop=\"keywords\"/>\n<a class=\"tag\" href=\"/tag/misattributed-eleanor-roosevelt/page/1/\">misattributed-eleanor-roosevelt</a>\n</div>\n</div>, <div class=\"quote\" itemscope=\"\" itemtype=\"http://schema.org/CreativeWork\">\n<span class=\"text\" itemprop=\"text\">“A day without sunshine is like, you know, night.”</span>\n<span>by <small class=\"author\" itemprop=\"author\">Steve Martin</small>\n<a href=\"/author/Steve-Martin\">(about)</a>\n</span>\n<div class=\"tags\">\n            Tags:\n            <meta class=\"keywords\" content=\"humor,obvious,simile\" itemprop=\"keywords\"/>\n<a class=\"tag\" href=\"/tag/humor/page/1/\">humor</a>\n<a class=\"tag\" href=\"/tag/obvious/page/1/\">obvious</a>\n<a class=\"tag\" href=\"/tag/simile/page/1/\">simile</a>\n</div>\n</div>]\n--------------------------------------------------------------------------------\n\n“The world as we have created it is a process of our thinking. It cannot be changed without changing our thinking.”\nby Albert Einstein\n(about)\n\n\n            Tags:\n            \nchange\ndeep-thoughts\nthinking\nworld\n\n\n\n“The world as we have created it is a process of our thinking. It cannot be changed without changing our thinking.”\nby Albert Einstein\n(about)\n\n\n            Tags:\n            \nchange\ndeep-thoughts\nthinking\nworld\n\n\n\n“It is our choices, Harry, that show what we truly are, far more than our abilities.”\nby J.K. Rowling\n(about)\n\n\n            Tags:\n            \nabilities\nchoices\n\n\n\n“There are only two ways to live your life. One is as though nothing is a miracle. The other is as though everything is a miracle.”\nby Albert Einstein\n(about)\n\n\n            Tags:\n            \ninspirational\nlife\nlive\nmiracle\nmiracles\n\n\n\n“The person, be it gentleman or lady, who has not pleasure in a good novel, must be intolerably stupid.”\nby Jane Austen\n(about)\n\n\n            Tags:\n            \naliteracy\nbooks\nclassic\nhumor\n\n\n\n“Imperfection is beauty, madness is genius and it's better to be absolutely ridiculous than absolutely boring.”\nby Marilyn Monroe\n(about)\n\n\n            Tags:\n            \nbe-yourself\ninspirational\n\n\n\n“Try not to become a man of success. Rather become a man of value.”\nby Albert Einstein\n(about)\n\n\n            Tags:\n            \nadulthood\nsuccess\nvalue\n\n\n\n“It is better to be hated for what you are than to be loved for what you are not.”\nby André Gide\n(about)\n\n\n            Tags:\n            \nlife\nlove\n\n\n\n“I have not failed. I've just found 10,000 ways that won't work.”\nby Thomas A. Edison\n(about)\n\n\n            Tags:\n            \nedison\nfailure\ninspirational\nparaphrased\n\n\n\n“A woman is like a tea bag; you never know how strong it is until it's in hot water.”\nby Eleanor Roosevelt\n(about)\n\n\n            Tags:\n            \nmisattributed-eleanor-roosevelt\n\n\n\n“A day without sunshine is like, you know, night.”\nby Steve Martin\n(about)\n\n\n            Tags:\n            \nhumor\nobvious\nsimile\n\n\n"
     ]
    }
   ],
   "source": [
    "import urllib.request as ur\n",
    "from bs4 import BeautifulSoup as bs\n",
    "url = 'http://quotes.toscrape.com/'\n",
    "html = ur.urlopen(url)\n",
    "soup = bs(html.read(), 'html.parser')\n",
    "\n",
    "quote = soup.find_all('div', class_='quote')\n",
    "\n",
    "print(soup.find_all('div', class_='quote'))\n",
    "print('-'*80)\n",
    "print(quote[0].text)\n",
    "\n",
    "for t in quote:\n",
    "    print(t.text)"
   ]
  },
  {
   "source": [
    "# 명언, 이름 출력하기"
   ],
   "cell_type": "markdown",
   "metadata": {}
  },
  {
   "source": [
    "import urllib.request as ur\n",
    "from bs4 import BeautifulSoup as bs\n",
    "\n",
    "url = 'http://quotes.toscrape.com/'\n",
    "html = ur.urlopen(url)\n",
    "soup = bs(html.read(), 'html.parser')\n",
    "\n",
    "quote = soup.find_all('div', class_='quote')\n",
    "\n",
    "for t in quote:\n",
    "    for n in t.find_all('span'):\n",
    "        print(n.text.replace('(about)',''))\n"
   ],
   "cell_type": "code",
   "metadata": {},
   "execution_count": 5,
   "outputs": [
    {
     "output_type": "stream",
     "name": "stdout",
     "text": [
      "“The world as we have created it is a process of our thinking. It cannot be changed without changing our thinking.”\nby Albert Einstein\n\n\n“It is our choices, Harry, that show what we truly are, far more than our abilities.”\nby J.K. Rowling\n\n\n“There are only two ways to live your life. One is as though nothing is a miracle. The other is as though everything is a miracle.”\nby Albert Einstein\n\n\n“The person, be it gentleman or lady, who has not pleasure in a good novel, must be intolerably stupid.”\nby Jane Austen\n\n\n“Imperfection is beauty, madness is genius and it's better to be absolutely ridiculous than absolutely boring.”\nby Marilyn Monroe\n\n\n“Try not to become a man of success. Rather become a man of value.”\nby Albert Einstein\n\n\n“It is better to be hated for what you are than to be loved for what you are not.”\nby André Gide\n\n\n“I have not failed. I've just found 10,000 ways that won't work.”\nby Thomas A. Edison\n\n\n“A woman is like a tea bag; you never know how strong it is until it's in hot water.”\nby Eleanor Roosevelt\n\n\n“A day without sunshine is like, you know, night.”\nby Steve Martin\n\n\n"
     ]
    }
   ]
  },
  {
   "source": [
    "# 머리기사 제목 추출하기"
   ],
   "cell_type": "markdown",
   "metadata": {}
  },
  {
   "cell_type": "code",
   "execution_count": 47,
   "metadata": {},
   "outputs": [
    {
     "output_type": "stream",
     "name": "stdout",
     "text": [
      "'대체 이유가 뭐지?'..인도 확진자 급감에 전문가들 '당혹' / 아시아경제\n신현수 靑민정수석 사의표명..\"秋라인 인사로 박범계와 갈등설\" / 머니투데이\n법무부, 실형 확정 이재용 부회장에 취업제한 통보 / 연합뉴스\n홍남기 \"매출 10억 이하 지원..손실보상 정부안 4월 제출\" / 뉴시스\n"
     ]
    }
   ],
   "source": [
    "import requests \n",
    "from bs4 import BeautifulSoup as bs\n",
    "news = 'https://news.daum.net/'\n",
    "headers = {\n",
    "    'User-Agent' : 'Mozilla/5.0 (X11; Ubuntu; Linux x86_64; rv:85.0) Gecko/20100101 Firefox/85.0',\n",
    "}\n",
    "\n",
    "html = requests.get(news, headers= headers).text\n",
    "\n",
    "soup = bs(html, 'html.parser')\n",
    "\n",
    "title = soup.select('#cSub > div > ul > li > div.item_issue > div > strong > a')\n",
    "news_name = soup.select('#cSub > div > ul > li > div.item_issue > div > span')\n",
    "\n",
    "for t,n in zip(title, news_name):\n",
    "    print(t.text, '/',n.text)"
   ]
  },
  {
   "source": [
    "# 하이퍼링크 주소 추출하기"
   ],
   "cell_type": "markdown",
   "metadata": {}
  },
  {
   "cell_type": "code",
   "execution_count": 7,
   "metadata": {},
   "outputs": [
    {
     "output_type": "stream",
     "name": "stdout",
     "text": [
      "[<a href=\"#kakaoBody\">본문 바로가기</a>, <a href=\"#kakaoGnb\">메뉴 바로가기</a>, <a data-tiara-layer=\"GNB default service_news\" href=\"https://news.daum.net/\" id=\"kakaoServiceLogo\"><span class=\"ir_wa\">뉴스</span></a>, <a class=\"link_services link_services1\" data-tiara-layer=\"service_enter\" href=\"https://entertain.daum.net\"><span class=\"ir_wa\">연예</span></a>, <a class=\"link_services link_services2\" data-tiara-layer=\"service_sports\" href=\"https://sports.daum.net\"><span class=\"ir_wa\">스포츠</span></a>]\n--------------------------------------------------------------------------------\n#kakaoBody\n#kakaoGnb\nhttps://news.daum.net/\nhttps://entertain.daum.net\nhttps://sports.daum.net\n"
     ]
    }
   ],
   "source": [
    "import urllib.request as ur\n",
    "from bs4 import BeautifulSoup as bs\n",
    "\n",
    "news = 'https://news.daum.net/'\n",
    "soup = bs(ur.urlopen(news).read(), 'html.parser')\n",
    "\n",
    "quote = soup.find_all('a')\n",
    "\n",
    "print(quote[0:5])\n",
    "print('-'*80)\n",
    "\n",
    "for t in quote[0:5]:\n",
    "    print(t.get('href'))"
   ]
  },
  {
   "cell_type": "code",
   "execution_count": 86,
   "metadata": {},
   "outputs": [
    {
     "output_type": "stream",
     "name": "stdout",
     "text": [
      "https://news.v.daum.net/v/20210216221605228 한겨레\nhttps://news.v.daum.net/v/20210216220904154 아시아경제\nhttps://news.v.daum.net/v/20210216220501104 머니투데이\nhttps://news.v.daum.net/v/20210216183426281 뉴시스\n"
     ]
    }
   ],
   "source": [
    "import requests\n",
    "from bs4 import BeautifulSoup as bs\n",
    "\n",
    "news = 'https://news.daum.net/'\n",
    "headers = {\n",
    "    'User-Agent' : 'Mozilla/5.0 (X11; Ubuntu; Linux x86_64; rv:85.0) Gecko/20100101 Firefox/85.0' \n",
    "}\n",
    "\n",
    "html = requests.get(news, headers = headers).text\n",
    "\n",
    "soup = bs(html, 'html.parser')\n",
    "\n",
    "title = soup.select('#cSub > div > ul > li > div.item_issue > div > strong > a')\n",
    "news_name = soup.select('#cSub > div > ul > li > div.item_issue > div > span')\n",
    "\n",
    "for t,n in zip(title,news_name):\n",
    "    print(t['href'], n.text)"
   ]
  },
  {
   "source": [
    "# 원하는 영역에서 하이퍼링크 모두 추출하기 "
   ],
   "cell_type": "markdown",
   "metadata": {}
  },
  {
   "cell_type": "code",
   "execution_count": 8,
   "metadata": {},
   "outputs": [
    {
     "output_type": "stream",
     "name": "stdout",
     "text": [
      "https://news.v.daum.net/v/20210216213650680\nhttps://news.v.daum.net/v/20210216213041568\nhttps://news.v.daum.net/v/20210216183426281\nhttps://news.v.daum.net/v/20210216171107675\n"
     ]
    }
   ],
   "source": [
    "import urllib.request as ur\n",
    "from bs4 import BeautifulSoup as bs\n",
    "\n",
    "news = 'https://news.daum.net/'\n",
    "html = ur.urlopen(news)\n",
    "soup = bs(html.read(), 'html.parser')\n",
    "\n",
    "quote = soup.find_all('div', class_='item_issue')\n",
    "\n",
    "for t in quote:\n",
    "    print(t.find_all('a')[0].get('href'))"
   ]
  },
  {
   "source": [
    "# 기사 제목과 내용 한꺼번에 추출하기"
   ],
   "cell_type": "markdown",
   "metadata": {}
  },
  {
   "cell_type": "code",
   "execution_count": 9,
   "metadata": {},
   "outputs": [
    {
     "output_type": "stream",
     "name": "stdout",
     "text": [
      "\n\n\n\n\n\n\n\n\n\n\n오늘 여야 예결특위서 2차 추경 심사…전 국민 지원 확대로 4조 6000억 증액\n\n여야가 27일부터 국회 상임위원회와 예산결산특별위원회를 열고 코로나19 대응 긴급재난지원금 지급을 위한 2차 추가경정예산(추경)안 심사에 들어가기로 했다. 또 전 국민에게 재난지원금을 지급하기 위해 추가로 필요한 재원 가운데 지방정부가 부담할 예정이었던 1조원을 세출 조정을 통해 조달키로 했다. 더불어민주당 이인영, 미래통합당 심재철 원내대표는 26일 국회에서 이 같은 입장을 밝혔다.이 원내대표는 “심 원내대표가 ‘지방정부가 당초 부담하기로 했던 1조원 규모라도 세출 조정을 통해 마련하면 어떻겠느냐’고 요청했다”면서 “긴급하게 기획재정부 담당자를 불러 그게 가능한지를 상의했고 최종적으로 가능하게 하기로 정리했다”고 말했다. 이어 야당이 요구하는 자발적 기부금과 관련한 특별법에 대해 “27일쯤 의원 발의를 하는 절차를 밟을 예정”이라고 밝혔다. 심 원내대표도 “통합당은 내일부터 상임위와 예결위에서 추경안을 심의하겠다”고 말했다.여야 합의에 따라 2차 추경안은 국회 제출 10일 만에 본격적인 처리 절차에 들어가게 됐다. 민주당과 통합당 모두 전 국민 지급을 전제로 하고 있다는 점에서 소득 하위 70% 지급을 전제로 편성된 추경안의 소요 재원은 기존 9조 7000억원에서 14조 3000억원으로 늘어날 전망이다. 여야는 증액분 4조 6000억원 가운데 3조 6000억원은 국채 발행을 통해 조달하고 애초 지방정부 부담이었던 1조원은 올해 예산을 조정키로 했다.이 원내대표는 세출 조정 대상과 관련, “불요불급한 것이나 늦춰서 할 수 있는 것이 있는지 살펴봐야 한다”면서 “통합당의 세출 조정안이 타당하면 수용할 수 있다”고 설명했다. 세출 조정을 통한 충당에 대해선 기재부도 긍정적인 반응을 낸 것으로 알려졌다. 다만 2차 추경안을 마련하면서 이미 7조 1000억원을 기존 예산에서 쥐어짜다시피 해 충당했기 때문에 각 부처를 설득하는 데 큰 고통이 따를 전망이다.한편 청와대는 자금난에 몰린 기간산업을 지원하고 이들의 이익을 공유한다는 원칙을 재확인했다. 청와대 고위관계자는 이익 공유 방법을 두고 “주식과 연계된 증권 등을 취득하는 방식을 고민하고 있다”고 언급했다. 다만 이 관계자는 이 같은 조치가 기업 경영에 개입하는 것은 아니라고 선을 그었다.\n\n\n\n\n\n\n서울 신형철 기자 hsdori@seoul.co.kr서울 이재연 기자 oscal@seoul.co.kr세종 임주형 기자 hermes@seoul.co.kr\n\n2020-04-27 4면\n\n\n\n\n\n\n\n“서울시 다른 예산 줄여서라도 재난지원\n김기덕 서울시의원 “서울시 산하 공공기\n권정선 경기도의원, 경기도 행복한 삶 복\n배수문 경기도의원, 3월 개교 ‘의왕정음\n\n\n“용산역사박물관은 용산의 이야기 담는 큰 그릇”\n[현장행정] 지역사 박물관 세우는 성장현 구청장\n\n“서울시 다른 예산 줄여서라도 재난지원금 보편 지급 추진”\n김인호 서울시의회 의장 인터뷰\n\n동대문, 착한 임대인 지원한다\n임대료 낮추면 최대 100만원 상품권\n세액 공제·전기안전점검 혜택 제공\n\n“영천·대구 같은 생활권… 도시철도 1호선 연장은 상생 1호\n‘시 승격 40주년’ 영천의 백년대계 준비하는 최기문 시장\n자료 제공 : 정책브리핑 korea.kr\n\n자료 제공 : 정책브리핑 korea.kr\n\n주소 : 100-745 서울시 중구 세종대로 124 (태평로1가  25번지) 서울신문사빌딩  l  대표전화 : (02) 2000-9000\n인터넷서울신문에 게재된 콘텐츠의 무단 전재/복사/배포 행위는 저작권법에 저촉되며 위반 시 법적 제재를 받을 수 있습니다.\nCopyright  © 서울신문사 All rights reserved.\n--------------------------------------------------------------------------------\n\n\n\n\n\n\n법무부 \"이재용 삼성전자 부회장 5년간 취업 제한\" 통보\n\n머니투데이\n\n\n"
     ]
    }
   ],
   "source": [
    "import urllib.request as ur\n",
    "from bs4 import BeautifulSoup as bs\n",
    "\n",
    "news = 'https://news.daum.net/'\n",
    "soup = bs(ur.urlopen(news).read(), 'html.parser')\n",
    "\n",
    "article1 = 'https://go.seoul.co.kr/news/newsView.php?id=20200427004004&wlog_tag3=daum'\n",
    "soup2 = bs(ur.urlopen(article1).read(), 'html.parser')\n",
    "\n",
    "quote2 = soup2.find_all('p')\n",
    "\n",
    "for t2 in quote2:\n",
    "    print(t2.text)\n",
    "\n",
    "print('-'*80)\n",
    "\n",
    "headline = soup.find_all('div',class_='item_issue')\n",
    "\n",
    "print(headline[0].text)"
   ]
  },
  {
   "source": [
    "# 하이퍼링크된 모든 기사의 제목과 본문 추출하기"
   ],
   "cell_type": "markdown",
   "metadata": {}
  },
  {
   "cell_type": "code",
   "execution_count": 10,
   "metadata": {},
   "outputs": [],
   "source": [
    "import urllib.request as ur\n",
    "from bs4 import BeautifulSoup as bs\n",
    "\n",
    "news = 'https://news.daum.net/'\n",
    "soup = bs(ur.urlopen(news).read(), 'html.parser')\n",
    "\n",
    "article1 = 'https://go.seoul.co.kr/news/newsView.php?id=20200427004004&wlog_tag3=daum'\n",
    "soup2 = bs(ur.urlopen(article1).read(), 'html.parser')\n",
    "\n",
    "headline = soup.find_all('div', {\"class\" : \"item_issue\"})"
   ]
  }
 ]
}