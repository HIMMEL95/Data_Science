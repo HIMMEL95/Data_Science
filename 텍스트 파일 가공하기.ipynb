{
 "metadata": {
  "language_info": {
   "codemirror_mode": {
    "name": "ipython",
    "version": 3
   },
   "file_extension": ".py",
   "mimetype": "text/x-python",
   "name": "python",
   "nbconvert_exporter": "python",
   "pygments_lexer": "ipython3",
   "version": "3.6.9-final"
  },
  "orig_nbformat": 2,
  "kernelspec": {
   "name": "python3",
   "display_name": "Python 3",
   "language": "python"
  }
 },
 "nbformat": 4,
 "nbformat_minor": 2,
 "cells": [
  {
   "source": [
    "# 현재 위치 설정하기 "
   ],
   "cell_type": "markdown",
   "metadata": {}
  },
  {
   "source": [
    "import os\n",
    "print(os.getcwd()) # 현재 위치를 확인할 때 getcwd 사용\n",
    "# os.chdir('path') 현재 위치를 변경할 때 chdir 사용\n",
    "print('-'*70)\n",
    "print(os.listdir()) # 현재 위치 어떤 파일이 있는지 확인할 때 listdir 사용\n"
   ],
   "cell_type": "code",
   "metadata": {},
   "execution_count": 1,
   "outputs": [
    {
     "output_type": "stream",
     "name": "stdout",
     "text": [
      "/home/himmel/Documents/Data_Science\n----------------------------------------------------------------------\n['friends101.txt', 'Data_Science_School.ipynb', '.git', 'a.txt', '텍스트 파일 가공하기.ipynb', 'test.txt', '텍스트 파일 가공하기.py', 'regression_analysis.ipynb']\n"
     ]
    }
   ]
  },
  {
   "source": [
    "# 파일 열고 닫기\n"
   ],
   "cell_type": "markdown",
   "metadata": {}
  },
  {
   "cell_type": "code",
   "execution_count": 2,
   "metadata": {},
   "outputs": [],
   "source": [
    "f = open('a.txt', 'w') # a.txt를 쓰기모드로 열기\n",
    "\n",
    "open('a.txt', 'w').write('abc') # 쓰기모드로 열린 파일에 abc 내용 작성\n",
    "\n",
    "f.close() # close 함수를 이용해서 파일 닫기 "
   ]
  },
  {
   "source": [
    "# 파일 열기 모드 알아보기\n",
    "- 'w' : 파일에 내용을 새로 쓸 때 사용\n",
    "- 'r' : 파일 내용을 읽을 때 사용\n",
    "- 'a' : 파일에 내용을 추가할 때 사용 "
   ],
   "cell_type": "markdown",
   "metadata": {}
  },
  {
   "cell_type": "code",
   "execution_count": 3,
   "metadata": {},
   "outputs": [],
   "source": [
    "f = open('a.txt', 'w')\n",
    "open('a.txt', 'w').write('나는 오늘 학교에 갔다. ')\n",
    "f.close()"
   ]
  },
  {
   "cell_type": "code",
   "execution_count": 4,
   "metadata": {},
   "outputs": [
    {
     "output_type": "stream",
     "name": "stdout",
     "text": [
      "나는 오늘 학교에 갔다. \n\n나는 오늘 학교에 갔다. \n"
     ]
    }
   ],
   "source": [
    "f = open('a.txt' ,'r')\n",
    "\n",
    "print(f.read())\n",
    "print(f.read())\n",
    "\n",
    "f.seek(0) # 파일 가장 처음으로 커서를 이동하라는 의미 \n",
    "print(f.read())\n",
    "\n",
    "f.close()"
   ]
  },
  {
   "cell_type": "code",
   "execution_count": 5,
   "metadata": {},
   "outputs": [],
   "source": [
    "f = open('a.txt', 'a')\n",
    "\n",
    "open('a.txt', 'a').write('학교에 가지 않을 날이 올까?')\n",
    "f.close()"
   ]
  },
  {
   "cell_type": "code",
   "execution_count": 6,
   "metadata": {},
   "outputs": [
    {
     "output_type": "execute_result",
     "data": {
      "text/plain": [
       "'나는 오늘 학교에 갔다. 학교에 가지 않을 날이 올까?'"
      ]
     },
     "metadata": {},
     "execution_count": 6
    }
   ],
   "source": [
    "f = open('a.txt', 'r')\n",
    "\n",
    "f.read()"
   ]
  },
  {
   "source": [
    "# with 문으로 객체를 만들지 않고 파일 입출력하기"
   ],
   "cell_type": "markdown",
   "metadata": {}
  },
  {
   "cell_type": "code",
   "execution_count": 7,
   "metadata": {},
   "outputs": [
    {
     "output_type": "stream",
     "name": "stdout",
     "text": [
      "오늘 나는 학교에 갔습니다.\n"
     ]
    }
   ],
   "source": [
    "with open('test.txt', 'w') as f:\n",
    "    f.write('오늘 나는 학교에 갔습니다.')\n",
    "\n",
    "f = open('test.txt', 'r')\n",
    "print(f.read())"
   ]
  },
  {
   "source": [
    "# 정규표현식이란 "
   ],
   "cell_type": "markdown",
   "metadata": {}
  },
  {
   "source": [
    "import re\n",
    "\n",
    "example = '이동민 교수님은 다음과 같이 설명했습니다(이동민, 2019). 그런데 다른 교수님은 이 문제에 대해서 다른 견해를 가지고 있었습니다(최재영, 2019). 또 다른 견해도 있었습니다(Lion, 2018)'\n",
    "\n",
    "result = re.findall(r'\\([A-Za-z가-힣]+, \\d+\\)', example)\n",
    "print(result)"
   ],
   "cell_type": "code",
   "metadata": {},
   "execution_count": 8,
   "outputs": [
    {
     "output_type": "stream",
     "name": "stdout",
     "text": [
      "['(이동민, 2019)', '(최재영, 2019)', '(Lion, 2018)']\n"
     ]
    }
   ]
  },
  {
   "source": [
    "# match 메서드 - 문자열 도입에서 패턴 찾기"
   ],
   "cell_type": "markdown",
   "metadata": {}
  },
  {
   "cell_type": "code",
   "execution_count": 9,
   "metadata": {},
   "outputs": [
    {
     "output_type": "stream",
     "name": "stdout",
     "text": [
      "life\nlife\nMatch!\nNot a match!\nNot a match!\n"
     ]
    }
   ],
   "source": [
    "import re\n",
    "pattern = r'life'\n",
    "script = 'life'\n",
    "re.match(pattern, script)\n",
    "print(re.match(r'life', 'life').group())\n",
    "re.match(r'ab', 'abcd')\n",
    "print(re.match(r'life', 'life').group())\n",
    "\n",
    "def refinder(pattern, script):\n",
    "    if re.match(pattern, script):\n",
    "        print('Match!')\n",
    "    else:\n",
    "        print('Not a match!')\n",
    "        \n",
    "pattern = r'Life'\n",
    "script = 'Life is so cool'\n",
    "refinder(pattern, script)\n",
    "\n",
    "pattern = r'life'\n",
    "script = 'Life is so cool'\n",
    "refinder(pattern, script)\n",
    "\n",
    "pattern = r'is'\n",
    "script = 'Life is so cool'\n",
    "refinder(pattern, script)"
   ]
  },
  {
   "source": [
    "# search 메서드 - 문자열 전체에서 패턴 찾기"
   ],
   "cell_type": "markdown",
   "metadata": {}
  },
  {
   "cell_type": "code",
   "execution_count": 10,
   "metadata": {},
   "outputs": [
    {
     "output_type": "stream",
     "name": "stdout",
     "text": [
      "is\nLife\ncool\n"
     ]
    }
   ],
   "source": [
    "import re\n",
    "\n",
    "def search(pattern, script):\n",
    "    if re.search(pattern, script):\n",
    "        print(re.search(pattern, script).group())\n",
    "\n",
    "pattern = r'is'\n",
    "script = 'Life is so cool'\n",
    "search(pattern, script)\n",
    "\n",
    "pattern = r'Life'\n",
    "script = 'Life is so cool'\n",
    "search(pattern, script)\n",
    "\n",
    "pattern = r'cool'\n",
    "script = 'Life is so cool'\n",
    "search(pattern, script)"
   ]
  },
  {
   "source": [
    "# 패턴을 찾는 정규표현식\n",
    "- \\d : 숫자와 매치, [0-9]와 같다.\n",
    "- \\D : 숫자가 아닌 것과 매치, [^0-9]와 같다\n",
    "- \\s : whitespace 문자와 매치,[ \\t\\n\\r\\f\\v]와 같다. 맨 앞의 빈칸은 공백 (space)을 의미한다.\n",
    "- \\S : whitespace 문자가 아닌 것과 매치, [^ \\t\\n\\r\\f\\v]와 같다\n",
    "- \\w : 문자+숫자와 매치, [a-zA-Z0-9_]와 같다\n",
    "- \\W : 문자+숫자가 아닌 문자와 매치, [^a-zA-Z0-9_]와 같다\n",
    "- \\\\ : 메타 문자가 아닌 일반 문자 역슬래시(\\)와 매치. 메타 문자 앞에 ₩를 붙이면 일반 문자를 의미한다. \n",
    "- r'\\([A-Za-z가-힣]+, \\d+\\) : \n",
    "- 숫자만 가능 : [ 0 ~ 9 ] 주의 : 띄어쓰기 불가능\n",
    " /^[0-9]+$/\n",
    "\n",
    "- 이메일 형식만 가능\n",
    "/^([\\w-]+(?:\\.[\\w-]+)*)@((?:[\\w-]+\\.)*\\w[\\w-]{0,66})\\.([a-z]{2,6}(?:\\.[a-z]{2})?)$/\n",
    "\n",
    "- 한글만 가능 : [ 가나다라 ... ] 주의 : ㄱㄴㄷ... 형식으로는 입력 불가능 , 띄어쓰기 불가능\n",
    "/^[가-힣]+$/\n",
    "\n",
    "- 한글,띄어쓰기만 가능 : [ 가나다라 ... ] 주의 : ㄱㄴㄷ... 형식으로는 입력 불가능 , 띄어쓰기 가능\n",
    "/^[가-힣\\s]+$/\n",
    "\n",
    "- 영문만 가능 :\n",
    "/^[a-zA-Z]+$/\n",
    "\n",
    "- 영문,띄어쓰기만 가능\n",
    "/^[a-zA-Z\\s]+$/\n",
    "\n",
    "- 전화번호 형태 : 전화번호 형태 000-0000-0000 만 받는다. ]\n",
    "/^[0-9]{2,3}-[0-9]{3,4}-[0-9]{4}$/\n",
    "\n",
    "- 도메인 형태, http:// https:// 포함안해도 되고 해도 되고\n",
    "/^(((http(s?))\\:\\/\\/)?)([0-9a-zA-Z\\-]+\\.)+[a-zA-Z]{2,6}(\\:[0-9]+)?(\\/\\S*)?$/\n",
    "\n",
    "- 도메인 형태, http:// https:// 꼭 포함\n",
    "/^((http(s?))\\:\\/\\/)([0-9a-zA-Z\\-]+\\.)+[a-zA-Z]{2,6}(\\:[0-9]+)?(\\/\\S*)?$/\n",
    "\n",
    "- 도메인 형태, http:// https:// 포함하면 안됨\n",
    "/^[^((http(s?))\\:\\/\\/)]([0-9a-zA-Z\\-]+\\.)+[a-zA-Z]{2,6}(\\:[0-9]+)?(\\/\\S*)?$/\n",
    "\n",
    "- 한글과 영문만 가능\n",
    "/^[가-힣a-zA-Z]+$/;\n",
    "\n",
    "- 숫자,알파벳만 가능\n",
    "/^[a-zA-Z0-9]+$/;\n",
    "\n",
    "- 주민번호, -까지 포함된 문자열로 검색\n",
    "/^(?:[0-9]{2}(?:0[1-9]|1[0-2])(?:0[1-9]|[1,2][0-9]|3[0,1]))-[1-4][0-9]{6}$/"
   ],
   "cell_type": "markdown",
   "metadata": {}
  },
  {
   "source": [
    "# findall 메서드 - 패턴을 모두 찾아 리스트로 반환하기 "
   ],
   "cell_type": "markdown",
   "metadata": {}
  },
  {
   "cell_type": "code",
   "execution_count": 11,
   "metadata": {},
   "outputs": [
    {
     "output_type": "stream",
     "name": "stdout",
     "text": [
      "['511223', '521012']\n"
     ]
    }
   ],
   "source": [
    "import re\n",
    "\n",
    "number = 'My number is 511223-1****** and yours is 521012-2******'\n",
    "\n",
    "print(re.findall(r'\\d{6}', number))"
   ]
  },
  {
   "source": [
    "# 정규표현식의 탐욕 제어하기: 마침표(.)와 물음표(?)"
   ],
   "cell_type": "markdown",
   "metadata": {}
  },
  {
   "cell_type": "code",
   "execution_count": 12,
   "metadata": {},
   "outputs": [
    {
     "output_type": "stream",
     "name": "stdout",
     "text": [
      "['91년에 태어났습니다. 97년에는 IMF가 있었습니다. 지금은 2020년']\n['91년', '97년', '2020년']\n['91년', '97년', '2020년']\n---------------------------------------------------------------------------\n['(이동민, 2019)', '(최재영, 2019)', '(Lion, 2018)']\n"
     ]
    }
   ],
   "source": [
    "import re\n",
    "example1 = '저는 91년에 태어났습니다. 97년에는 IMF가 있었습니다. 지금은 2020년입니다.'\n",
    "\n",
    "example = '이동민 교수는 다음과 같이 설명했습니다(이동민, 2019). 그런데 다른 학자는 이 문제에 대해서 다른 견해를 가지고 있었습니다(최재영, 2019). 또 다른 견해도 있었습니다(Lion, 2018).'\n",
    "\n",
    "print(re.findall(r'\\d.+년', example1)) #  숫자(\\d)로 시작하고, 어떤 문자든(.) 반복(+)되며, '년'으로 끝나는 문자열을 반환\n",
    "\n",
    "print(re.findall(r'\\d.+?년', example1))\n",
    "print(re.findall(r'\\d+.년', example1))\n",
    "print('-'*75)\n",
    "print(re.findall(r'\\([A-za-z가-힣]+, \\d+\\)', example))"
   ]
  },
  {
   "source": [
    "# sub 메서드 - 문자열 바꾸기"
   ],
   "cell_type": "markdown",
   "metadata": {}
  },
  {
   "cell_type": "code",
   "execution_count": 13,
   "metadata": {},
   "outputs": [
    {
     "output_type": "stream",
     "name": "stdout",
     "text": [
      "I have a lovely cat, really. I am not telling a lie. What a pretty cat! I love this cat.\nI am home now. \n\n\nI am with my cat.\n\n\nI am home now. I am with my cat.\n"
     ]
    }
   ],
   "source": [
    "import re\n",
    "sentence = \"I have a lovely dog, really. I am not telling a lie. What a pretty dog! I love this dog.\"\n",
    "\n",
    "words = 'I am home now. \\n\\n\\nI am with my cat.\\n\\n'\n",
    "\n",
    "print(re.sub(r'dog', 'cat', sentence))\n",
    "\n",
    "print(words)\n",
    "\n",
    "print(re.sub(r'\\n', '', words))"
   ]
  },
  {
   "source": [
    "# ly로 끝나는 단어 추출하기"
   ],
   "cell_type": "markdown",
   "metadata": {}
  },
  {
   "cell_type": "code",
   "execution_count": 14,
   "metadata": {},
   "outputs": [
    {
     "output_type": "execute_result",
     "data": {
      "text/plain": [
       "['lovely', 'really']"
      ]
     },
     "metadata": {},
     "execution_count": 14
    }
   ],
   "source": [
    "import re\n",
    "\n",
    "sentence = 'I have a lovely dog, really. I am not telling a lie'\n",
    "\n",
    "re.findall(r'\\w+ly', sentence)\n",
    "# 공백이 아닌 문자나 숫자는 \\w, 숫자에 상관없이 반복하는 문자는 +, 마지막은 내가 찾고자 하는 문자"
   ]
  },
  {
   "source": [
    "# 드라마 대본 불러오기"
   ],
   "cell_type": "markdown",
   "metadata": {}
  },
  {
   "cell_type": "code",
   "execution_count": 15,
   "metadata": {},
   "outputs": [
    {
     "output_type": "stream",
     "name": "stdout",
     "text": [
      "The One Where Monica Gets a New Roommate (The Pilot-The Uncut Version)\nWritten by: Marta Kauffman & \n"
     ]
    }
   ],
   "source": [
    "import os, re, codecs\n",
    "\n",
    "f = codecs.open('friends101.txt', 'r', encoding='utf-8')\n",
    "\n",
    "script101 = f.read()\n",
    "print(script101[0:100])"
   ]
  },
  {
   "source": [
    "# 특정 등장인물의 대사만 모으기"
   ],
   "cell_type": "markdown",
   "metadata": {}
  },
  {
   "cell_type": "code",
   "execution_count": 39,
   "metadata": {},
   "outputs": [
    {
     "output_type": "stream",
     "name": "stdout",
     "text": [
      "[\"Monica: There's nothing to tell! He's just some guy I work with!\", \"Monica: Okay, everybody relax. This is not even a date. It's just two people going out to dinner and- not having sex.\", \"Monica: And they weren't looking at you before?!\"]\n"
     ]
    }
   ],
   "source": [
    "import os, re, codecs\n",
    "\n",
    "f = codecs.open('friends101.txt', 'r', encoding='utf-8')\n",
    "\n",
    "script101 = f.read()\n",
    "\n",
    "Line = re.findall(r'Monica:.+', script101)\n",
    "\n",
    "print(Line[:3])\n",
    "\n",
    "f.close()\n",
    "\n",
    "f = open('monica.txt', 'w', encoding='utf-8')\n",
    "\n",
    "monica = []\n",
    "\n",
    "for i in range(3):\n",
    "    monica.append(Line[i]+'\\n')\n",
    "\n",
    "for a in range(3):\n",
    "    f.write(monica[a])\n",
    "\n",
    "f.close()"
   ]
  },
  {
   "cell_type": "code",
   "execution_count": null,
   "metadata": {},
   "outputs": [],
   "source": []
  }
 ]
}